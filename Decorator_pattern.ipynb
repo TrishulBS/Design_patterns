{
 "cells": [
  {
   "cell_type": "code",
   "execution_count": 7,
   "id": "fc6a076e",
   "metadata": {},
   "outputs": [
    {
     "ename": "IndentationError",
     "evalue": "expected an indented block (3340771470.py, line 16)",
     "output_type": "error",
     "traceback": [
      "\u001b[1;36m  File \u001b[1;32m\"C:\\Users\\EndUser\\AppData\\Local\\Temp\\ipykernel_652\\3340771470.py\"\u001b[1;36m, line \u001b[1;32m16\u001b[0m\n\u001b[1;33m    class Espresso(Beverage):\u001b[0m\n\u001b[1;37m    ^\u001b[0m\n\u001b[1;31mIndentationError\u001b[0m\u001b[1;31m:\u001b[0m expected an indented block\n"
     ]
    }
   ],
   "source": [
    "import abc\n",
    "\n",
    "class Beverage(abc.ABC):\n",
    "    @abc.abstractmethod\n",
    "    def get_description(self):\n",
    "        raise NotImplementedError\n",
    "    \n",
    "    @abc.abstractmethod\n",
    "    def cost(self):\n",
    "        raise NotImplementedError\n",
    "\n",
    "class AddonDecorator(Beverage, abc.ABC):\n",
    "    \n",
    "    \n",
    "    \n",
    "\n",
    "class Espresso(Beverage):\n",
    "    def get_description(self):\n",
    "        return \"Expresso\"\n",
    "    def cost(self):\n",
    "        return 2\n",
    "\n",
    "class HouseBlend(Beverage):\n",
    "    def get_description(self):\n",
    "        return \"HouseBlend\"\n",
    "    def cost(self):\n",
    "        return 3\n",
    "\n",
    "class Mocha(AddonDecorator):\n",
    "    def __init__(self, beverage):\n",
    "        self.beverage = beverage\n",
    "\n",
    "    def get_description(self):\n",
    "        return self.beverage.get_description() + \", Mocha\"\n",
    "    \n",
    "    def cost(self):\n",
    "        return self.beverage.cost() + 0.2\n",
    "\n",
    "class Soy(AddonDecorator):\n",
    "    def __init__(self, beverage):\n",
    "        self.beverage = beverage\n",
    "\n",
    "    def get_description(self):\n",
    "        return self.beverage.get_description() + \", Soy\"\n",
    "\n",
    "    def cost(self):\n",
    "        return self.beverage.cost() + 0.1\n",
    "\n",
    "def star_bucks():\n",
    "    beverage = Espresso()\n",
    "    print(beverage.get_description(), \"cost:\", beverage.cost())\n",
    "    \n",
    "    beverage2 = HouseBlend()\n",
    "    beverage2 = Mocha(beverage2)\n",
    "    beverage2 = Mocha(beverage2)\n",
    "    beverage2 = Soy(beverage2)\n",
    "    print(beverage2.get_description() + \"cost:\", beverage2.cost())\n",
    "    \n",
    "if __name__ == \"__main__\":\n",
    "    star_bucks()"
   ]
  },
  {
   "cell_type": "code",
   "execution_count": null,
   "id": "a04d85c9",
   "metadata": {},
   "outputs": [],
   "source": []
  }
 ],
 "metadata": {
  "kernelspec": {
   "display_name": "Python 3 (ipykernel)",
   "language": "python",
   "name": "python3"
  },
  "language_info": {
   "codemirror_mode": {
    "name": "ipython",
    "version": 3
   },
   "file_extension": ".py",
   "mimetype": "text/x-python",
   "name": "python",
   "nbconvert_exporter": "python",
   "pygments_lexer": "ipython3",
   "version": "3.9.13"
  }
 },
 "nbformat": 4,
 "nbformat_minor": 5
}
