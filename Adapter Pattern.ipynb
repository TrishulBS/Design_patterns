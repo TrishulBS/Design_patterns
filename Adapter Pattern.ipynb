{
 "cells": [
  {
   "cell_type": "code",
   "execution_count": 10,
   "id": "8e4a52d9",
   "metadata": {},
   "outputs": [
    {
     "name": "stdout",
     "output_type": "stream",
     "text": [
      "Quack\n",
      "Im flying\n",
      "Gobble\n",
      "I'm flying for a short distance\n",
      "Gobble\n",
      "I'm flying for a short distance\n"
     ]
    }
   ],
   "source": [
    "import abc\n",
    "\n",
    "class Duck(abc.ABC):\n",
    "    def quack():\n",
    "        raise NotImplementedError\n",
    "    def fly():\n",
    "        raise NotImplementedError\n",
    "        \n",
    "class MallardDuck(Duck):\n",
    "    def quack(self):\n",
    "        print(\"Quack\")\n",
    "    \n",
    "    def fly(self):\n",
    "        print(\"Im flying\")\n",
    "    \n",
    "class Turkey(abc.ABC):\n",
    "    def gobble():\n",
    "        raise NotImplementedError()\n",
    "        \n",
    "    def fly():\n",
    "        raise NotImplementedError()\n",
    "        \n",
    "class WildTurkey(Turkey):\n",
    "    def gobble(self):\n",
    "        print(\"Gobble\")\n",
    "    \n",
    "    def fly(self):\n",
    "        print(\"I'm flying for a short distance\")\n",
    "    \n",
    "class TurkeyAdapterForDuck:\n",
    "    \n",
    "    def __init__(self, turkey):\n",
    "        self.turkey = turkey\n",
    "    \n",
    "    def quack(self):\n",
    "        self.turkey.gobble()\n",
    "    \n",
    "    def fly(self):\n",
    "        self.turkey.fly()\n",
    "        \n",
    "\n",
    "def test_drive():\n",
    "    duck = MallardDuck()\n",
    "    turkey = WildTurkey()\n",
    "    \n",
    "    adaptedTurkey = TurkeyAdapterForDuck(turkey)\n",
    "    \n",
    "    duck.quack()\n",
    "    duck.fly()\n",
    "    \n",
    "    \n",
    "    turkey.gobble()\n",
    "    turkey.fly()\n",
    "    \n",
    "    adaptedTurkey.quack()\n",
    "    adaptedTurkey.fly()\n",
    "    \n",
    "if __name__ == \"__main__\":\n",
    "    test_drive()"
   ]
  },
  {
   "cell_type": "code",
   "execution_count": null,
   "id": "92e23199",
   "metadata": {},
   "outputs": [],
   "source": []
  },
  {
   "cell_type": "code",
   "execution_count": null,
   "id": "90231163",
   "metadata": {},
   "outputs": [],
   "source": []
  }
 ],
 "metadata": {
  "kernelspec": {
   "display_name": "Python 3 (ipykernel)",
   "language": "python",
   "name": "python3"
  },
  "language_info": {
   "codemirror_mode": {
    "name": "ipython",
    "version": 3
   },
   "file_extension": ".py",
   "mimetype": "text/x-python",
   "name": "python",
   "nbconvert_exporter": "python",
   "pygments_lexer": "ipython3",
   "version": "3.9.13"
  }
 },
 "nbformat": 4,
 "nbformat_minor": 5
}
